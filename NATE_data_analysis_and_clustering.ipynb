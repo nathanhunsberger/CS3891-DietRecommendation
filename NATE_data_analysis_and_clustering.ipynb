{
  "nbformat": 4,
  "nbformat_minor": 0,
  "metadata": {
    "colab": {
      "provenance": []
    },
    "kernelspec": {
      "name": "python3",
      "display_name": "Python 3"
    },
    "language_info": {
      "name": "python"
    }
  },
  "cells": [
    {
      "cell_type": "markdown",
      "source": [
        "Short data analysis for the recipe data found at:\n",
        "https://www.kaggle.com/datasets/irkaal/foodcom-recipes-and-reviews?select=recipes.csv"
      ],
      "metadata": {
        "id": "3_dYAx_BCuUc"
      }
    },
    {
      "cell_type": "code",
      "source": [
        "import pandas as pd\n",
        "import matplotlib.pyplot as plt\n",
        "from google.colab import drive\n",
        "drive.mount('/content/drive', force_remount=True)\n",
        "\n",
        "reviews = pd.read_csv('drive/MyDrive/CS3891/Data/reviews.csv')\n",
        "recipes = pd.read_csv('drive/MyDrive/CS3891/Data/recipes.csv')\n",
        "\n",
        "recipes.info()"
      ],
      "metadata": {
        "colab": {
          "base_uri": "https://localhost:8080/"
        },
        "id": "XXANcXD_E5ZS",
        "outputId": "a1f02032-88ba-42e6-d928-31961c39c89e"
      },
      "execution_count": null,
      "outputs": [
        {
          "output_type": "stream",
          "name": "stdout",
          "text": [
            "Mounted at /content/drive\n",
            "<class 'pandas.core.frame.DataFrame'>\n",
            "RangeIndex: 1401982 entries, 0 to 1401981\n",
            "Data columns (total 8 columns):\n",
            " #   Column         Non-Null Count    Dtype \n",
            "---  ------         --------------    ----- \n",
            " 0   ReviewId       1401982 non-null  int64 \n",
            " 1   RecipeId       1401982 non-null  int64 \n",
            " 2   AuthorId       1401982 non-null  int64 \n",
            " 3   AuthorName     1401982 non-null  object\n",
            " 4   Rating         1401982 non-null  int64 \n",
            " 5   Review         1401768 non-null  object\n",
            " 6   DateSubmitted  1401982 non-null  object\n",
            " 7   DateModified   1401982 non-null  object\n",
            "dtypes: int64(4), object(4)\n",
            "memory usage: 85.6+ MB\n"
          ]
        }
      ]
    },
    {
      "cell_type": "code",
      "source": [
        "recipes.info()"
      ],
      "metadata": {
        "colab": {
          "base_uri": "https://localhost:8080/"
        },
        "id": "NeokrnHyH5pB",
        "outputId": "bd04f432-f65e-40f7-b572-e9026a50bc34"
      },
      "execution_count": null,
      "outputs": [
        {
          "output_type": "stream",
          "name": "stdout",
          "text": [
            "<class 'pandas.core.frame.DataFrame'>\n",
            "RangeIndex: 522517 entries, 0 to 522516\n",
            "Data columns (total 28 columns):\n",
            " #   Column                      Non-Null Count   Dtype  \n",
            "---  ------                      --------------   -----  \n",
            " 0   RecipeId                    522517 non-null  int64  \n",
            " 1   Name                        522517 non-null  object \n",
            " 2   AuthorId                    522517 non-null  int64  \n",
            " 3   AuthorName                  522517 non-null  object \n",
            " 4   CookTime                    439972 non-null  object \n",
            " 5   PrepTime                    522517 non-null  object \n",
            " 6   TotalTime                   522517 non-null  object \n",
            " 7   DatePublished               522517 non-null  object \n",
            " 8   Description                 522512 non-null  object \n",
            " 9   Images                      522516 non-null  object \n",
            " 10  RecipeCategory              521766 non-null  object \n",
            " 11  Keywords                    505280 non-null  object \n",
            " 12  RecipeIngredientQuantities  522514 non-null  object \n",
            " 13  RecipeIngredientParts       522517 non-null  object \n",
            " 14  AggregatedRating            269294 non-null  float64\n",
            " 15  ReviewCount                 275028 non-null  float64\n",
            " 16  Calories                    522517 non-null  float64\n",
            " 17  FatContent                  522517 non-null  float64\n",
            " 18  SaturatedFatContent         522517 non-null  float64\n",
            " 19  CholesterolContent          522517 non-null  float64\n",
            " 20  SodiumContent               522517 non-null  float64\n",
            " 21  CarbohydrateContent         522517 non-null  float64\n",
            " 22  FiberContent                522517 non-null  float64\n",
            " 23  SugarContent                522517 non-null  float64\n",
            " 24  ProteinContent              522517 non-null  float64\n",
            " 25  RecipeServings              339606 non-null  float64\n",
            " 26  RecipeYield                 174446 non-null  object \n",
            " 27  RecipeInstructions          522517 non-null  object \n",
            "dtypes: float64(12), int64(2), object(14)\n",
            "memory usage: 111.6+ MB\n"
          ]
        }
      ]
    },
    {
      "cell_type": "code",
      "source": [
        "# Check out all columns\n",
        "print(reviews.columns)\n",
        "\n",
        "# Make a histogram of recipe categories\n",
        "reviews['Rating'].value_counts()"
      ],
      "metadata": {
        "colab": {
          "base_uri": "https://localhost:8080/"
        },
        "id": "TxOp3nPXPLqY",
        "outputId": "06392ce0-af21-4fe0-90b8-351724519557"
      },
      "execution_count": null,
      "outputs": [
        {
          "output_type": "stream",
          "name": "stdout",
          "text": [
            "Index(['ReviewId', 'RecipeId', 'AuthorId', 'AuthorName', 'Rating', 'Review',\n",
            "       'DateSubmitted', 'DateModified'],\n",
            "      dtype='object')\n"
          ]
        },
        {
          "output_type": "execute_result",
          "data": {
            "text/plain": [
              "5    1012082\n",
              "4     229217\n",
              "0      76248\n",
              "3      50279\n",
              "2      17597\n",
              "1      16559\n",
              "Name: Rating, dtype: int64"
            ]
          },
          "metadata": {},
          "execution_count": 22
        }
      ]
    },
    {
      "cell_type": "code",
      "source": [
        "average_ratings = reviews.groupby('RecipeId', as_index=False)['Rating'].mean()\n",
        "average_ratings.info()"
      ],
      "metadata": {
        "colab": {
          "base_uri": "https://localhost:8080/"
        },
        "id": "rr-hjH3Xu8Ua",
        "outputId": "69e83eeb-ee35-4c0e-88cf-71b26b4b1bf2"
      },
      "execution_count": null,
      "outputs": [
        {
          "output_type": "stream",
          "name": "stdout",
          "text": [
            "<class 'pandas.core.frame.DataFrame'>\n",
            "RangeIndex: 271678 entries, 0 to 271677\n",
            "Data columns (total 2 columns):\n",
            " #   Column    Non-Null Count   Dtype  \n",
            "---  ------    --------------   -----  \n",
            " 0   RecipeId  271678 non-null  int64  \n",
            " 1   Rating    271678 non-null  float64\n",
            "dtypes: float64(1), int64(1)\n",
            "memory usage: 4.1 MB\n"
          ]
        }
      ]
    },
    {
      "cell_type": "code",
      "source": [
        "plt.hist(average_ratings['Rating'], bins=range(1, 7), edgecolor='black', color= \"#1DB954\", alpha=0.7)\n",
        "plt.xlabel('Rating')\n",
        "plt.ylabel('Frequency')\n",
        "plt.title('Histogram of Average Ratings')\n",
        "plt.xticks(range(1, 6))  # Assuming ratings are integers from 1 to 5\n",
        "plt.show()"
      ],
      "metadata": {
        "colab": {
          "base_uri": "https://localhost:8080/",
          "height": 472
        },
        "id": "vMOBN9p3yTNy",
        "outputId": "997d83f4-a3e3-41dc-e027-d0f34eb8727a"
      },
      "execution_count": null,
      "outputs": [
        {
          "output_type": "display_data",
          "data": {
            "text/plain": [
              "<Figure size 640x480 with 1 Axes>"
            ],
            "image/png": "[encoded data removed]"
          },
          "metadata": {}
        }
      ]
    },
    {
      "cell_type": "code",
      "source": [
        "from scipy.sparse import csr_matrix\n",
        "import numpy as np\n",
        "\n",
        "reviews_df = reviews\n",
        "\n",
        "# Map IDs to indices\n",
        "user_ids = reviews_df['AuthorId'].astype('category').cat.codes\n",
        "recipe_ids = reviews_df['RecipeId'].astype('category').cat.codes\n",
        "\n",
        "# Create the sparse matrix\n",
        "sparse_matrix = csr_matrix((reviews_df['Rating'], (recipe_ids, user_ids)), shape=(recipe_ids.max() + 1, user_ids.max() + 1))\n",
        "\n",
        "from sklearn.metrics.pairwise import cosine_similarity\n",
        "\n",
        "# Compute the cosine similarity matrix\n",
        "# Note: Depending on your dataset size, this might still be a heavy operation\n",
        "similarity_matrix = cosine_similarity(sparse_matrix, dense_output=False)"
      ],
      "metadata": {
        "colab": {
          "base_uri": "https://localhost:8080/"
        },
        "id": "czxxp45uFaHj",
        "outputId": "29c2bebb-9c4c-4812-c9d4-75b1024a93d7"
      },
      "execution_count": null,
      "outputs": [
        {
          "output_type": "stream",
          "name": "stdout",
          "text": [
            "[20608, 70396, 70254, 52290, 75271]\n"
          ]
        }
      ]
    },
    {
      "cell_type": "code",
      "source": [
        "def recommend_recipes(user_index, similarity_matrix, sparse_matrix, top_n=5):\n",
        "    # Find all recipes the user has rated\n",
        "    rated_recipes = sparse_matrix[:, user_index].nonzero()[0]\n",
        "\n",
        "    # Sum similarities for all recipes the user has rated\n",
        "    similarity_scores = similarity_matrix[rated_recipes].sum(axis=0)\n",
        "\n",
        "    # Convert to dense format and get rid of the original user's ratings\n",
        "    similarity_scores = np.array(similarity_scores).flatten()\n",
        "    similarity_scores[rated_recipes] = 0\n",
        "\n",
        "    # Get the indices of the top N recommendations\n",
        "    recommended_recipe_indices = similarity_scores.argsort()[-top_n:][::-1]\n",
        "\n",
        "    return recommended_recipe_indices\n",
        "\n",
        "# Example usage:\n",
        "user_index = 2046  # Example user index\n",
        "recommendations = recommend_recipes(user_index, similarity_matrix, sparse_matrix, top_n=5)\n",
        "\n",
        "# Translate back to recipe IDs if necessary\n",
        "inverse_recipe_mapping = dict(enumerate(reviews_df['RecipeId'].astype('category').cat.categories))\n",
        "recommended_recipe_ids = [inverse_recipe_mapping[idx] for idx in recommendations]\n",
        "\n",
        "print(recommended_recipe_ids)"
      ],
      "metadata": {
        "colab": {
          "base_uri": "https://localhost:8080/"
        },
        "id": "VE0CXR1CGZsK",
        "outputId": "1cfde873-58fd-4b67-cfee-3ac3b36d3ca8"
      },
      "execution_count": null,
      "outputs": [
        {
          "output_type": "stream",
          "name": "stdout",
          "text": [
            "[178111, 107174, 94722, 389955, 108522]\n"
          ]
        }
      ]
    },
    {
      "cell_type": "code",
      "source": [
        "from sklearn.metrics.pairwise import cosine_similarity\n",
        "from scipy.sparse import csr_matrix\n",
        "\n",
        "# Assuming reviews_df is your DataFrame with columns 'AuthorId', 'RecipeId', and 'Rating'\n",
        "\n",
        "# Create a sparse matrix (recipes x users)\n",
        "user_ids = reviews_df['AuthorId'].astype('category').cat.codes\n",
        "recipe_ids = reviews_df['RecipeId'].astype('category').cat.codes\n",
        "sparse_matrix = csr_matrix((reviews_df['Rating'], (recipe_ids, user_ids)), shape=(recipe_ids.max() + 1, user_ids.max() + 1))\n",
        "\n",
        "# Transpose the matrix to make it users x recipes, suitable for user-based CF\n",
        "user_recipe_matrix = sparse_matrix.T\n",
        "\n",
        "# Compute cosine similarity between users\n",
        "user_similarity = cosine_similarity(user_recipe_matrix, dense_output=False)"
      ],
      "metadata": {
        "id": "tEakmOZbHcPB"
      },
      "execution_count": null,
      "outputs": []
    },
    {
      "cell_type": "code",
      "source": [
        "# For a given user, recommend recipes based on similar users\n",
        "def recommend_for_user(user_index, user_similarity, sparse_matrix, top_n=5):\n",
        "    # Get top N similar users to the given user (excluding the user itself)\n",
        "    similarity_scores = user_similarity[user_index].toarray().flatten()\n",
        "    similarity_scores[user_index] = -1  # Exclude self-similarity\n",
        "    similar_users = similarity_scores.argsort()[-top_n:]\n",
        "\n",
        "    # Aggregate the recipes rated by these similar users, weighted by similarity\n",
        "    similar_users_matrix = sparse_matrix[:, similar_users]\n",
        "    recipe_scores = similar_users_matrix.dot(similarity_scores[similar_users].reshape(-1, 1))\n",
        "\n",
        "    # Recommend recipes with the highest aggregated scores that the user hasn't rated\n",
        "    user_rated_recipes = sparse_matrix[:, user_index].nonzero()[0]\n",
        "    recipe_scores[user_rated_recipes] = -1  # Exclude already rated recipes\n",
        "    recommended_recipes = recipe_scores.ravel().argsort()[-top_n:]\n",
        "\n",
        "    return recommended_recipes\n",
        "\n",
        "# Example: Assuming you have a way to map user_index back to AuthorId\n",
        "user_index = 2046  # Replace with the actual user index you're interested in\n",
        "recommendations = recommend_for_user(user_index, user_similarity, sparse_matrix, top_n=5)\n",
        "recommendation_name = recipes.loc[recipes['RecipeId'].isin(recommendations), \"Name\"]\n",
        "print(recommendations)\n",
        "print(recommendation_name)\n"
      ],
      "metadata": {
        "colab": {
          "base_uri": "https://localhost:8080/"
        },
        "id": "ldXoPso7He5D",
        "outputId": "a1aa6c37-8425-4247-a80d-6641205a953f"
      },
      "execution_count": null,
      "outputs": [
        {
          "output_type": "stream",
          "name": "stdout",
          "text": [
            "[ 90586  90587  90574 271677  36525]\n",
            "32874     Broccoli Casserole for kids!!!!\n",
            "85398        Better-than-a-candy-bar Cake\n",
            "85410                        Quick Paella\n",
            "85411               Honey Sponge Cupcakes\n",
            "261179          Chinese Chicken Casserole\n",
            "Name: Name, dtype: object\n"
          ]
        }
      ]
    },
    {
      "cell_type": "code",
      "source": [
        "reviews.head()"
      ],
      "metadata": {
        "colab": {
          "base_uri": "https://localhost:8080/",
          "height": 206
        },
        "id": "EbMl-64vGW8d",
        "outputId": "0b7a1591-bc8f-4396-89ae-c46d04de2774"
      },
      "execution_count": null,
      "outputs": [
        {
          "output_type": "execute_result",
          "data": {
            "text/plain": [
              "   ReviewId  RecipeId  AuthorId        AuthorName  Rating  \\\n",
              "0         2       992      2008         gayg msft       5   \n",
              "1         7      4384      1634     Bill Hilbrich       4   \n",
              "2         9      4523      2046  Gay Gilmore ckpt       2   \n",
              "3        13      7435      1773     Malarkey Test       5   \n",
              "4        14        44      2085        Tony Small       5   \n",
              "\n",
              "                                              Review         DateSubmitted  \\\n",
              "0       better than any you can get at a restaurant!  2000-01-25T21:44:00Z   \n",
              "1  I cut back on the mayo, and made up the differ...  2001-10-17T16:49:59Z   \n",
              "2  i think i did something wrong because i could ...  2000-02-25T09:00:00Z   \n",
              "3  easily the best i have ever had.  juicy flavor...  2000-03-13T21:15:00Z   \n",
              "4                                 An excellent dish.  2000-03-28T12:51:00Z   \n",
              "\n",
              "           DateModified  \n",
              "0  2000-01-25T21:44:00Z  \n",
              "1  2001-10-17T16:49:59Z  \n",
              "2  2000-02-25T09:00:00Z  \n",
              "3  2000-03-13T21:15:00Z  \n",
              "4  2000-03-28T12:51:00Z  "
            ],
            "text/html": [
              "\n",
              "  <div id=\"df-c6116d1a-654c-4185-ab41-b140b94d3e01\" class=\"colab-df-container\">\n",
              "    <div>\n",
              "<style scoped>\n",
              "    .dataframe tbody tr th:only-of-type {\n",
              "        vertical-align: middle;\n",
              "    }\n",
              "\n",
              "    .dataframe tbody tr th {\n",
              "        vertical-align: top;\n",
              "    }\n",
              "\n",
              "    .dataframe thead th {\n",
              "        text-align: right;\n",
              "    }\n",
              "</style>\n",
              "<table border=\"1\" class=\"dataframe\">\n",
              "  <thead>\n",
              "    <tr style=\"text-align: right;\">\n",
              "      <th></th>\n",
              "      <th>ReviewId</th>\n",
              "      <th>RecipeId</th>\n",
              "      <th>AuthorId</th>\n",
              "      <th>AuthorName</th>\n",
              "      <th>Rating</th>\n",
              "      <th>Review</th>\n",
              "      <th>DateSubmitted</th>\n",
              "      <th>DateModified</th>\n",
              "    </tr>\n",
              "  </thead>\n",
              "  <tbody>\n",
              "    <tr>\n",
              "      <th>0</th>\n",
              "      <td>2</td>\n",
              "      <td>992</td>\n",
              "      <td>2008</td>\n",
              "      <td>gayg msft</td>\n",
              "      <td>5</td>\n",
              "      <td>better than any you can get at a restaurant!</td>\n",
              "      <td>2000-01-25T21:44:00Z</td>\n",
              "      <td>2000-01-25T21:44:00Z</td>\n",
              "    </tr>\n",
              "    <tr>\n",
              "      <th>1</th>\n",
              "      <td>7</td>\n",
              "      <td>4384</td>\n",
              "      <td>1634</td>\n",
              "      <td>Bill Hilbrich</td>\n",
              "      <td>4</td>\n",
              "      <td>I cut back on the mayo, and made up the differ...</td>\n",
              "      <td>2001-10-17T16:49:59Z</td>\n",
              "      <td>2001-10-17T16:49:59Z</td>\n",
              "    </tr>\n",
              "    <tr>\n",
              "      <th>2</th>\n",
              "      <td>9</td>\n",
              "      <td>4523</td>\n",
              "      <td>2046</td>\n",
              "      <td>Gay Gilmore ckpt</td>\n",
              "      <td>2</td>\n",
              "      <td>i think i did something wrong because i could ...</td>\n",
              "      <td>2000-02-25T09:00:00Z</td>\n",
              "      <td>2000-02-25T09:00:00Z</td>\n",
              "    </tr>\n",
              "    <tr>\n",
              "      <th>3</th>\n",
              "      <td>13</td>\n",
              "      <td>7435</td>\n",
              "      <td>1773</td>\n",
              "      <td>Malarkey Test</td>\n",
              "      <td>5</td>\n",
              "      <td>easily the best i have ever had.  juicy flavor...</td>\n",
              "      <td>2000-03-13T21:15:00Z</td>\n",
              "      <td>2000-03-13T21:15:00Z</td>\n",
              "    </tr>\n",
              "    <tr>\n",
              "      <th>4</th>\n",
              "      <td>14</td>\n",
              "      <td>44</td>\n",
              "      <td>2085</td>\n",
              "      <td>Tony Small</td>\n",
              "      <td>5</td>\n",
              "      <td>An excellent dish.</td>\n",
              "      <td>2000-03-28T12:51:00Z</td>\n",
              "      <td>2000-03-28T12:51:00Z</td>\n",
              "    </tr>\n",
              "  </tbody>\n",
              "</table>\n",
              "</div>\n",
              "    <div class=\"colab-df-buttons\">\n",
              "\n",
              "  <div class=\"colab-df-container\">\n",
              "    <button class=\"colab-df-convert\" onclick=\"convertToInteractive('df-c6116d1a-654c-4185-ab41-b140b94d3e01')\"\n",
              "            title=\"Convert this dataframe to an interactive table.\"\n",
              "            style=\"display:none;\">\n",
              "\n",
              "  <svg xmlns=\"http://www.w3.org/2000/svg\" height=\"24px\" viewBox=\"0 -960 960 960\">\n",
              "    <path d=\"M120-120v-720h720v720H120Zm60-500h600v-160H180v160Zm220 220h160v-160H400v160Zm0 220h160v-160H400v160ZM180-400h160v-160H180v160Zm440 0h160v-160H620v160ZM180-180h160v-160H180v160Zm440 0h160v-160H620v160Z\"/>\n",
              "  </svg>\n",
              "    </button>\n",
              "\n",
              "  <style>\n",
              "    .colab-df-container {\n",
              "      display:flex;\n",
              "      gap: 12px;\n",
              "    }\n",
              "\n",
              "    .colab-df-convert {\n",
              "      background-color: #E8F0FE;\n",
              "      border: none;\n",
              "      border-radius: 50%;\n",
              "      cursor: pointer;\n",
              "      display: none;\n",
              "      fill: #1967D2;\n",
              "      height: 32px;\n",
              "      padding: 0 0 0 0;\n",
              "      width: 32px;\n",
              "    }\n",
              "\n",
              "    .colab-df-convert:hover {\n",
              "      background-color: #E2EBFA;\n",
              "      box-shadow: 0px 1px 2px rgba(60, 64, 67, 0.3), 0px 1px 3px 1px rgba(60, 64, 67, 0.15);\n",
              "      fill: #174EA6;\n",
              "    }\n",
              "\n",
              "    .colab-df-buttons div {\n",
              "      margin-bottom: 4px;\n",
              "    }\n",
              "\n",
              "    [theme=dark] .colab-df-convert {\n",
              "      background-color: #3B4455;\n",
              "      fill: #D2E3FC;\n",
              "    }\n",
              "\n",
              "    [theme=dark] .colab-df-convert:hover {\n",
              "      background-color: #434B5C;\n",
              "      box-shadow: 0px 1px 3px 1px rgba(0, 0, 0, 0.15);\n",
              "      filter: drop-shadow(0px 1px 2px rgba(0, 0, 0, 0.3));\n",
              "      fill: #FFFFFF;\n",
              "    }\n",
              "  </style>\n",
              "\n",
              "    <script>\n",
              "      const buttonEl =\n",
              "        document.querySelector('#df-c6116d1a-654c-4185-ab41-b140b94d3e01 button.colab-df-convert');\n",
              "      buttonEl.style.display =\n",
              "        google.colab.kernel.accessAllowed ? 'block' : 'none';\n",
              "\n",
              "      async function convertToInteractive(key) {\n",
              "        const element = document.querySelector('#df-c6116d1a-654c-4185-ab41-b140b94d3e01');\n",
              "        const dataTable =\n",
              "          await google.colab.kernel.invokeFunction('convertToInteractive',\n",
              "                                                    [key], {});\n",
              "        if (!dataTable) return;\n",
              "\n",
              "        const docLinkHtml = 'Like what you see? Visit the ' +\n",
              "          '<a target=\"_blank\" href=https://colab.research.google.com/notebooks/data_table.ipynb>data table notebook</a>'\n",
              "          + ' to learn more about interactive tables.';\n",
              "        element.innerHTML = '';\n",
              "        dataTable['output_type'] = 'display_data';\n",
              "        await google.colab.output.renderOutput(dataTable, element);\n",
              "        const docLink = document.createElement('div');\n",
              "        docLink.innerHTML = docLinkHtml;\n",
              "        element.appendChild(docLink);\n",
              "      }\n",
              "    </script>\n",
              "  </div>\n",
              "\n",
              "\n",
              "<div id=\"df-cf61cb00-67bf-4bfa-95f4-e3ad1acc2e0d\">\n",
              "  <button class=\"colab-df-quickchart\" onclick=\"quickchart('df-cf61cb00-67bf-4bfa-95f4-e3ad1acc2e0d')\"\n",
              "            title=\"Suggest charts\"\n",
              "            style=\"display:none;\">\n",
              "\n",
              "<svg xmlns=\"http://www.w3.org/2000/svg\" height=\"24px\"viewBox=\"0 0 24 24\"\n",
              "     width=\"24px\">\n",
              "    <g>\n",
              "        <path d=\"M19 3H5c-1.1 0-2 .9-2 2v14c0 1.1.9 2 2 2h14c1.1 0 2-.9 2-2V5c0-1.1-.9-2-2-2zM9 17H7v-7h2v7zm4 0h-2V7h2v10zm4 0h-2v-4h2v4z\"/>\n",
              "    </g>\n",
              "</svg>\n",
              "  </button>\n",
              "\n",
              "<style>\n",
              "  .colab-df-quickchart {\n",
              "      --bg-color: #E8F0FE;\n",
              "      --fill-color: #1967D2;\n",
              "      --hover-bg-color: #E2EBFA;\n",
              "      --hover-fill-color: #174EA6;\n",
              "      --disabled-fill-color: #AAA;\n",
              "      --disabled-bg-color: #DDD;\n",
              "  }\n",
              "\n",
              "  [theme=dark] .colab-df-quickchart {\n",
              "      --bg-color: #3B4455;\n",
              "      --fill-color: #D2E3FC;\n",
              "      --hover-bg-color: #434B5C;\n",
              "      --hover-fill-color: #FFFFFF;\n",
              "      --disabled-bg-color: #3B4455;\n",
              "      --disabled-fill-color: #666;\n",
              "  }\n",
              "\n",
              "  .colab-df-quickchart {\n",
              "    background-color: var(--bg-color);\n",
              "    border: none;\n",
              "    border-radius: 50%;\n",
              "    cursor: pointer;\n",
              "    display: none;\n",
              "    fill: var(--fill-color);\n",
              "    height: 32px;\n",
              "    padding: 0;\n",
              "    width: 32px;\n",
              "  }\n",
              "\n",
              "  .colab-df-quickchart:hover {\n",
              "    background-color: var(--hover-bg-color);\n",
              "    box-shadow: 0 1px 2px rgba(60, 64, 67, 0.3), 0 1px 3px 1px rgba(60, 64, 67, 0.15);\n",
              "    fill: var(--button-hover-fill-color);\n",
              "  }\n",
              "\n",
              "  .colab-df-quickchart-complete:disabled,\n",
              "  .colab-df-quickchart-complete:disabled:hover {\n",
              "    background-color: var(--disabled-bg-color);\n",
              "    fill: var(--disabled-fill-color);\n",
              "    box-shadow: none;\n",
              "  }\n",
              "\n",
              "  .colab-df-spinner {\n",
              "    border: 2px solid var(--fill-color);\n",
              "    border-color: transparent;\n",
              "    border-bottom-color: var(--fill-color);\n",
              "    animation:\n",
              "      spin 1s steps(1) infinite;\n",
              "  }\n",
              "\n",
              "  @keyframes spin {\n",
              "    0% {\n",
              "      border-color: transparent;\n",
              "      border-bottom-color: var(--fill-color);\n",
              "      border-left-color: var(--fill-color);\n",
              "    }\n",
              "    20% {\n",
              "      border-color: transparent;\n",
              "      border-left-color: var(--fill-color);\n",
              "      border-top-color: var(--fill-color);\n",
              "    }\n",
              "    30% {\n",
              "      border-color: transparent;\n",
              "      border-left-color: var(--fill-color);\n",
              "      border-top-color: var(--fill-color);\n",
              "      border-right-color: var(--fill-color);\n",
              "    }\n",
              "    40% {\n",
              "      border-color: transparent;\n",
              "      border-right-color: var(--fill-color);\n",
              "      border-top-color: var(--fill-color);\n",
              "    }\n",
              "    60% {\n",
              "      border-color: transparent;\n",
              "      border-right-color: var(--fill-color);\n",
              "    }\n",
              "    80% {\n",
              "      border-color: transparent;\n",
              "      border-right-color: var(--fill-color);\n",
              "      border-bottom-color: var(--fill-color);\n",
              "    }\n",
              "    90% {\n",
              "      border-color: transparent;\n",
              "      border-bottom-color: var(--fill-color);\n",
              "    }\n",
              "  }\n",
              "</style>\n",
              "\n",
              "  <script>\n",
              "    async function quickchart(key) {\n",
              "      const quickchartButtonEl =\n",
              "        document.querySelector('#' + key + ' button');\n",
              "      quickchartButtonEl.disabled = true;  // To prevent multiple clicks.\n",
              "      quickchartButtonEl.classList.add('colab-df-spinner');\n",
              "      try {\n",
              "        const charts = await google.colab.kernel.invokeFunction(\n",
              "            'suggestCharts', [key], {});\n",
              "      } catch (error) {\n",
              "        console.error('Error during call to suggestCharts:', error);\n",
              "      }\n",
              "      quickchartButtonEl.classList.remove('colab-df-spinner');\n",
              "      quickchartButtonEl.classList.add('colab-df-quickchart-complete');\n",
              "    }\n",
              "    (() => {\n",
              "      let quickchartButtonEl =\n",
              "        document.querySelector('#df-cf61cb00-67bf-4bfa-95f4-e3ad1acc2e0d button');\n",
              "      quickchartButtonEl.style.display =\n",
              "        google.colab.kernel.accessAllowed ? 'block' : 'none';\n",
              "    })();\n",
              "  </script>\n",
              "</div>\n",
              "    </div>\n",
              "  </div>\n"
            ],
            "application/vnd.google.colaboratory.intrinsic+json": {
              "type": "dataframe",
              "variable_name": "reviews"
            }
          },
          "metadata": {},
          "execution_count": 4
        }
      ]
    },
    {
      "cell_type": "code",
      "source": [
        "recipes_2046 = reviews[reviews['AuthorId'] == 2046][['RecipeId', 'Rating']]\n",
        "names_2046 = recipes.loc[recipes['RecipeId'].isin(recipes_2046['RecipeId']), [\"RecipeId\", \"Name\"]]\n",
        "combined_2046 = names_2046.merge(recipes_2046, on='RecipeId', how='left')\n",
        "print(combined_2046)"
      ],
      "metadata": {
        "colab": {
          "base_uri": "https://localhost:8080/"
        },
        "id": "ByidpQkiGQOC",
        "outputId": "8d91ae25-eace-4e29-a874-1f6d7388bdcb"
      },
      "execution_count": null,
      "outputs": [
        {
          "output_type": "stream",
          "name": "stdout",
          "text": [
            "   RecipeId                                              Name  Rating\n",
            "0       517                            Greek Stuffed Meatloaf       5\n",
            "1      3431                   Leek, Tomato, Goat Cheese Pizza       5\n",
            "2      4038                        Easy Pumpkin Bread Pudding       2\n",
            "3      4523     Chinese Imperial Palace General Tso's Chicken       2\n",
            "4      4684              Flank Steak With Lime-Chipotle Sauce       5\n",
            "5      5221                      Spinach and Strawberry Salad       4\n",
            "6      5344           Marinated Flank Steak with Citrus Salsa       4\n",
            "7     13307  Neiman-Marcus $250 Chocolate Chip Cookies Recipe       5\n"
          ]
        }
      ]
    },
    {
      "cell_type": "code",
      "source": [
        "# Basic clustering on just a few different recipes that a user could like\n",
        "from sklearn.neighbors import KNeighborsClassifier\n",
        "from sklearn.metrics.pairwise import cosine_similarity\n",
        "\n",
        "N = 5\n",
        "\n",
        "random_recipes = recipes.sample(N)\n",
        "\n",
        "random_recipes.head()\n",
        "\n",
        "import pandas as pd\n",
        "\n",
        "from sklearn.neighbors import NearestNeighbors\n",
        "\n",
        "from scipy.sparse import csr_matrix\n",
        "\n",
        "# Map user and recipe IDs to matrix indices\n",
        "user_ids = reviews['AuthorId'].unique()\n",
        "recipe_ids = reviews['RecipeId'].unique()\n",
        "user_to_index = {user_id: index for index, user_id in enumerate(user_ids)}\n",
        "recipe_to_index = {recipe_id: index for index, recipe_id in enumerate(recipe_ids)}\n",
        "\n",
        "# Create the sparse matrix\n",
        "row_indices = reviews['AuthorId'].map(user_to_index)\n",
        "col_indices = reviews['RecipeId'].map(recipe_to_index)\n",
        "data = reviews['Rating']\n",
        "rating_matrix = csr_matrix((data, (row_indices, col_indices)), shape=(len(user_ids), len(recipe_ids)))\n",
        "\n",
        "# Step 1: Create a user-item rating matrix\n",
        "rating_matrix = reviews.pivot_table(index='AuthorId', columns='RecipeId', values='Rating')\n",
        "\n",
        "# Fill missing values with zeros\n",
        "rating_matrix_filled = rating_matrix.fillna(0)\n",
        "\n",
        "# Step 2: Use NearestNeighbors to find similar users\n",
        "# Using cosine similarity as the metric\n",
        "knn = NearestNeighbors(metric='cosine', algorithm='brute', n_neighbors=5, n_jobs=-1)\n",
        "knn.fit(rating_matrix)\n",
        "\n",
        "# Example: Finding recommendations for a user (replace `user_id` with the actual user ID)\n",
        "user_id = 337963  # Random user ID I chose\n",
        "user_index = rating_matrix.index.get_loc(user_id)\n",
        "\n",
        "# Finding the k-nearest neighbors\n",
        "distances, indices = knn.kneighbors([rating_matrix_filled.iloc[user_index]], n_neighbors=6)\n",
        "similar_users_indices = indices[0][1:]  # Exclude the first one (the user itself)\n",
        "\n",
        "# Step 3: Recommend recipes based on similar users' preferences\n",
        "# Aggregate the ratings from similar users and recommend the top-rated recipes\n",
        "similar_users_ratings = rating_matrix_filled.iloc[similar_users_indices]\n",
        "recommended_recipes = similar_users_ratings.mean(axis=0).sort_values(ascending=False)\n",
        "\n",
        "# Filter out recipes the user has already rated\n",
        "unrated_recipes = recommended_recipes[rating_matrix.loc[user_id].isna()]\n",
        "\n",
        "# Recommend the top 5 unrated recipes\n",
        "top_recommendations = unrated_recipes.head(5)\n",
        "print(top_recommendations)\n"
      ],
      "metadata": {
        "id": "NXmVia3S-UX7",
        "colab": {
          "base_uri": "https://localhost:8080/",
          "height": 211
        },
        "outputId": "9f4e93ec-eed4-4675-b203-7278f23cec90"
      },
      "execution_count": null,
      "outputs": [
        {
          "output_type": "error",
          "ename": "AttributeError",
          "evalue": "'csr_matrix' object has no attribute 'index'",
          "traceback": [
            "\u001b[0;31m---------------------------------------------------------------------------\u001b[0m",
            "\u001b[0;31mAttributeError\u001b[0m                            Traceback (most recent call last)",
            "\u001b[0;32m<ipython-input-5-6001beafeb59>\u001b[0m in \u001b[0;36m<cell line: 42>\u001b[0;34m()\u001b[0m\n\u001b[1;32m     40\u001b[0m \u001b[0;31m# Example: Finding recommendations for a user (replace `user_id` with the actual user ID)\u001b[0m\u001b[0;34m\u001b[0m\u001b[0;34m\u001b[0m\u001b[0m\n\u001b[1;32m     41\u001b[0m \u001b[0muser_id\u001b[0m \u001b[0;34m=\u001b[0m \u001b[0;36m337963\u001b[0m  \u001b[0;31m# Random user ID I chose\u001b[0m\u001b[0;34m\u001b[0m\u001b[0;34m\u001b[0m\u001b[0m\n\u001b[0;32m---> 42\u001b[0;31m \u001b[0muser_index\u001b[0m \u001b[0;34m=\u001b[0m \u001b[0mrating_matrix\u001b[0m\u001b[0;34m.\u001b[0m\u001b[0mindex\u001b[0m\u001b[0;34m.\u001b[0m\u001b[0mget_loc\u001b[0m\u001b[0;34m(\u001b[0m\u001b[0muser_id\u001b[0m\u001b[0;34m)\u001b[0m\u001b[0;34m\u001b[0m\u001b[0;34m\u001b[0m\u001b[0m\n\u001b[0m\u001b[1;32m     43\u001b[0m \u001b[0;34m\u001b[0m\u001b[0m\n\u001b[1;32m     44\u001b[0m \u001b[0;31m# Finding the k-nearest neighbors\u001b[0m\u001b[0;34m\u001b[0m\u001b[0;34m\u001b[0m\u001b[0m\n",
            "\u001b[0;31mAttributeError\u001b[0m: 'csr_matrix' object has no attribute 'index'"
          ]
        }
      ]
    }
  ]
}